{
  "nbformat": 4,
  "nbformat_minor": 0,
  "metadata": {
    "colab": {
      "name": "asar 7 first.ipynb",
      "provenance": [],
      "collapsed_sections": []
    },
    "kernelspec": {
      "name": "python3",
      "display_name": "Python 3"
    }
  },
  "cells": [
    {
      "cell_type": "markdown",
      "metadata": {
        "id": "k_NuNfiDoFmQ",
        "colab_type": "text"
      },
      "source": [
        "numpy: numerical\n",
        "\n",
        "scipy: scientific, statistical\n",
        "\n",
        "matplotlib: visualisation\n",
        "\n",
        "scikit: ML\n",
        "\n",
        "sympy: symbolic (Mathematica)\n",
        "\n",
        "pandas: file I/0 (excel, text), Data wrangling, Table\n",
        "\n",
        "\n"
      ]
    },
    {
      "cell_type": "code",
      "metadata": {
        "id": "jujt9qlQ6FRr",
        "colab_type": "code",
        "colab": {}
      },
      "source": [
        ""
      ],
      "execution_count": null,
      "outputs": []
    },
    {
      "cell_type": "code",
      "metadata": {
        "id": "B9M92koNUmRB",
        "colab_type": "code",
        "colab": {}
      },
      "source": [
        "import numpy as np\n",
        "import matplotlib.pyplot as plt"
      ],
      "execution_count": null,
      "outputs": []
    },
    {
      "cell_type": "code",
      "metadata": {
        "id": "q6Grj9AMUrDW",
        "colab_type": "code",
        "colab": {
          "base_uri": "https://localhost:8080/",
          "height": 282
        },
        "outputId": "b21580b6-298f-46cc-cd48-708d143047a3"
      },
      "source": [
        "x = np.linspace(-100,100,100)\n",
        "\n",
        "plt.plot(x,x, '--')"
      ],
      "execution_count": null,
      "outputs": [
        {
          "output_type": "execute_result",
          "data": {
            "text/plain": [
              "[<matplotlib.lines.Line2D at 0x7f36ebd24668>]"
            ]
          },
          "metadata": {
            "tags": []
          },
          "execution_count": 8
        },
        {
          "output_type": "display_data",
          "data": {
            "image/png": "[encoded data removed]",
            "text/plain": [
              "<Figure size 432x288 with 1 Axes>"
            ]
          },
          "metadata": {
            "tags": [],
            "needs_background": "light"
          }
        }
      ]
    },
    {
      "cell_type": "code",
      "metadata": {
        "id": "g60pK1yho9g1",
        "colab_type": "code",
        "colab": {
          "base_uri": "https://localhost:8080/",
          "height": 35
        },
        "outputId": "809e8936-dd55-4425-cafe-4d6955ac1465"
      },
      "source": [
        "3*4, 12/3, 7-6"
      ],
      "execution_count": null,
      "outputs": [
        {
          "output_type": "execute_result",
          "data": {
            "text/plain": [
              "(12, 4.0, 1)"
            ]
          },
          "metadata": {
            "tags": []
          },
          "execution_count": 1
        }
      ]
    },
    {
      "cell_type": "code",
      "metadata": {
        "id": "uXeZ4tXdUvk6",
        "colab_type": "code",
        "colab": {
          "base_uri": "https://localhost:8080/",
          "height": 35
        },
        "outputId": "a29d6943-7b31-4370-9fd2-83e6af9d2b5c"
      },
      "source": [
        "np.sin(-2*np.pi), np.sin(np.pi/2)"
      ],
      "execution_count": null,
      "outputs": [
        {
          "output_type": "execute_result",
          "data": {
            "text/plain": [
              "(2.4492935982947064e-16, 1.0)"
            ]
          },
          "metadata": {
            "tags": []
          },
          "execution_count": 6
        }
      ]
    },
    {
      "cell_type": "code",
      "metadata": {
        "id": "LkTal3qmpEwj",
        "colab_type": "code",
        "colab": {}
      },
      "source": [
        ""
      ],
      "execution_count": null,
      "outputs": []
    },
    {
      "cell_type": "markdown",
      "metadata": {
        "id": "vAl4tQhXps_o",
        "colab_type": "text"
      },
      "source": [
        "for, while\n",
        "\n",
        "if/else/ifelse"
      ]
    },
    {
      "cell_type": "markdown",
      "metadata": {
        "id": "uNwrSp8Dq_UX",
        "colab_type": "text"
      },
      "source": [
        "Key words: formatting, print, float/integer/string\n",
        "\n",
        "conditional (if/elif/else)"
      ]
    },
    {
      "cell_type": "code",
      "metadata": {
        "id": "GTINmPH8puKH",
        "colab_type": "code",
        "colab": {
          "base_uri": "https://localhost:8080/",
          "height": 35
        },
        "outputId": "8e668f6e-f830-4384-9102-baa7c74d8e66"
      },
      "source": [
        "x = 0\n",
        "\n",
        "if x<0:\n",
        "    print(f'X is negative. Sqrt of negative number does not exist.')\n",
        "elif x>0:\n",
        "    y = np.sqrt(x)\n",
        "    print(f'Sqrt of x is {y}')\n",
        "else:\n",
        "    print(f'This is else part.')"
      ],
      "execution_count": null,
      "outputs": [
        {
          "output_type": "stream",
          "text": [
            "Sqrt of x is 0.0\n"
          ],
          "name": "stdout"
        }
      ]
    },
    {
      "cell_type": "markdown",
      "metadata": {
        "id": "ctD1TnEYsJbe",
        "colab_type": "text"
      },
      "source": [
        "Loop: \n",
        "\n",
        "for: predefined length of vector \n",
        "while: open loop"
      ]
    },
    {
      "cell_type": "code",
      "metadata": {
        "id": "CEmTWeEdqPjt",
        "colab_type": "code",
        "colab": {
          "base_uri": "https://localhost:8080/",
          "height": 35
        },
        "outputId": "03d2a1e8-4c4b-40f5-957f-317d1c947a89"
      },
      "source": [
        "x = [49,0,-49,100,144]\n",
        "\n",
        "result = []\n",
        "for i in x:\n",
        "    #print(i)\n",
        "    if i<0:\n",
        "        #print(f'{i} is negative. Sqrt of negative number does not exist.')\n",
        "        y = 'NA'\n",
        "    elif i>0:\n",
        "        y = np.sqrt(i)\n",
        "        #print(f'Sqrt of {i} is {y}')\n",
        "    else:\n",
        "        #print(f'This is else part.')\n",
        "        y = 0\n",
        "\n",
        "    result.append(y)\n",
        "\n",
        "print(result)\n",
        "    "
      ],
      "execution_count": null,
      "outputs": [
        {
          "output_type": "stream",
          "text": [
            "[7.0, 0, 'NA', 10.0, 12.0]\n"
          ],
          "name": "stdout"
        }
      ]
    },
    {
      "cell_type": "markdown",
      "metadata": {
        "id": "8qiDl5xYurvG",
        "colab_type": "text"
      },
      "source": [
        "list: [] mixed type collection\n",
        "\n",
        "dict: {}\n",
        "\n",
        "array: np.array([])"
      ]
    },
    {
      "cell_type": "code",
      "metadata": {
        "id": "NO_wasteuWYM",
        "colab_type": "code",
        "colab": {}
      },
      "source": [
        "#list\n",
        "\n",
        "t = [3,4,5]\n",
        "\n",
        "# dictionary\n",
        "\n",
        "#key, value\n",
        "#'Raj':[20, 25, 45]\n",
        "#'Yogesh':[10,15,35]\n",
        "\n",
        "p = {'Raj':[20,25,45], 'Yogesh':[10,15,35]}"
      ],
      "execution_count": null,
      "outputs": []
    },
    {
      "cell_type": "code",
      "metadata": {
        "id": "YAvwelt4uXJ5",
        "colab_type": "code",
        "colab": {
          "base_uri": "https://localhost:8080/",
          "height": 53
        },
        "outputId": "ea9aa907-ebbf-4388-ac3e-4bfdf3708494"
      },
      "source": [
        "for key, value in p.items():\n",
        "    print(key, value)\n"
      ],
      "execution_count": null,
      "outputs": [
        {
          "output_type": "stream",
          "text": [
            "Raj [20, 25, 45]\n",
            "Yogesh [10, 15, 35]\n"
          ],
          "name": "stdout"
        }
      ]
    },
    {
      "cell_type": "markdown",
      "metadata": {
        "id": "1MJ1wMkgwlnh",
        "colab_type": "text"
      },
      "source": [
        "Python 0 indexing"
      ]
    },
    {
      "cell_type": "code",
      "metadata": {
        "id": "Rf-cj_jowoVM",
        "colab_type": "code",
        "colab": {
          "base_uri": "https://localhost:8080/",
          "height": 35
        },
        "outputId": "a07c734c-efd9-4513-847c-08d7485fc317"
      },
      "source": [
        "t = [3,4,5,10,15,17,19]\n",
        "\n",
        "# forward indexing\n",
        "t[0], t[2], t[5]\n",
        "\n",
        "# backward indexing\n",
        "t[-1]\n"
      ],
      "execution_count": null,
      "outputs": [
        {
          "output_type": "execute_result",
          "data": {
            "text/plain": [
              "19"
            ]
          },
          "metadata": {
            "tags": []
          },
          "execution_count": 40
        }
      ]
    },
    {
      "cell_type": "code",
      "metadata": {
        "id": "Ohjxk5gpxj8e",
        "colab_type": "code",
        "colab": {
          "base_uri": "https://localhost:8080/",
          "height": 35
        },
        "outputId": "e5449d73-571c-4426-e415-d81e69866209"
      },
      "source": [
        "t = [3,4,5]\n",
        "\n",
        "t*2"
      ],
      "execution_count": null,
      "outputs": [
        {
          "output_type": "execute_result",
          "data": {
            "text/plain": [
              "[3, 4, 5, 3, 4, 5]"
            ]
          },
          "metadata": {
            "tags": []
          },
          "execution_count": 41
        }
      ]
    },
    {
      "cell_type": "code",
      "metadata": {
        "id": "NhIJZFZKxlF4",
        "colab_type": "code",
        "colab": {
          "base_uri": "https://localhost:8080/",
          "height": 107
        },
        "outputId": "9d4382bd-c093-4ade-c02c-a587b69edf97"
      },
      "source": [
        "t = np.array([49,0,-49,100,144])\n",
        "t*2, t**2, np.sqrt(t)"
      ],
      "execution_count": null,
      "outputs": [
        {
          "output_type": "stream",
          "text": [
            "/usr/local/lib/python3.6/dist-packages/ipykernel_launcher.py:2: RuntimeWarning: invalid value encountered in sqrt\n",
            "  \n"
          ],
          "name": "stderr"
        },
        {
          "output_type": "execute_result",
          "data": {
            "text/plain": [
              "(array([ 98,   0, -98, 200, 288]),\n",
              " array([ 2401,     0,  2401, 10000, 20736]),\n",
              " array([ 7.,  0., nan, 10., 12.]))"
            ]
          },
          "metadata": {
            "tags": []
          },
          "execution_count": 47
        }
      ]
    },
    {
      "cell_type": "code",
      "metadata": {
        "id": "vBhcBEZzxoHO",
        "colab_type": "code",
        "colab": {}
      },
      "source": [
        "#nan: not a number\n"
      ],
      "execution_count": null,
      "outputs": []
    },
    {
      "cell_type": "code",
      "metadata": {
        "id": "GNNX3Ge43Gz0",
        "colab_type": "code",
        "colab": {}
      },
      "source": [
        "t = np.array([3,4,5,6])\n"
      ],
      "execution_count": null,
      "outputs": []
    },
    {
      "cell_type": "code",
      "metadata": {
        "id": "wW736t9P3Kkd",
        "colab_type": "code",
        "colab": {
          "base_uri": "https://localhost:8080/",
          "height": 35
        },
        "outputId": "2e72de71-216b-402a-9125-db78913fc828"
      },
      "source": [
        "len(t)"
      ],
      "execution_count": null,
      "outputs": [
        {
          "output_type": "execute_result",
          "data": {
            "text/plain": [
              "4"
            ]
          },
          "metadata": {
            "tags": []
          },
          "execution_count": 49
        }
      ]
    },
    {
      "cell_type": "code",
      "metadata": {
        "id": "PYQiLrf43L5f",
        "colab_type": "code",
        "colab": {
          "base_uri": "https://localhost:8080/",
          "height": 35
        },
        "outputId": "8e755765-5536-4809-9090-4c66a9566fa5"
      },
      "source": [
        "np.sqrt(t)"
      ],
      "execution_count": null,
      "outputs": [
        {
          "output_type": "execute_result",
          "data": {
            "text/plain": [
              "array([1.73205081, 2.        , 2.23606798, 2.44948974])"
            ]
          },
          "metadata": {
            "tags": []
          },
          "execution_count": 50
        }
      ]
    },
    {
      "cell_type": "code",
      "metadata": {
        "id": "5guX06xf3e5K",
        "colab_type": "code",
        "colab": {}
      },
      "source": [
        "t = np.linspace(0,100,9)"
      ],
      "execution_count": null,
      "outputs": []
    },
    {
      "cell_type": "code",
      "metadata": {
        "id": "WEn_8cWS30Y1",
        "colab_type": "code",
        "colab": {
          "base_uri": "https://localhost:8080/",
          "height": 35
        },
        "outputId": "d466e731-e3ab-4bf6-ebe0-ddd305baa13a"
      },
      "source": [
        "len(t), t.shape"
      ],
      "execution_count": null,
      "outputs": [
        {
          "output_type": "execute_result",
          "data": {
            "text/plain": [
              "9"
            ]
          },
          "metadata": {
            "tags": []
          },
          "execution_count": 59
        }
      ]
    },
    {
      "cell_type": "code",
      "metadata": {
        "id": "SHj9cA1u3Nhu",
        "colab_type": "code",
        "colab": {}
      },
      "source": [
        "np.arange(0,100,1)"
      ],
      "execution_count": null,
      "outputs": []
    },
    {
      "cell_type": "code",
      "metadata": {
        "id": "95MFRVmP3T-S",
        "colab_type": "code",
        "colab": {
          "base_uri": "https://localhost:8080/",
          "height": 35
        },
        "outputId": "75e64e63-dde0-4d88-e171-56cf6cf75337"
      },
      "source": [
        "t = np.array([[2,3,5], \n",
        "              [3,4,5]])\n",
        "\n",
        "len(t), t.shape"
      ],
      "execution_count": null,
      "outputs": [
        {
          "output_type": "execute_result",
          "data": {
            "text/plain": [
              "(2, (2, 3))"
            ]
          },
          "metadata": {
            "tags": []
          },
          "execution_count": 67
        }
      ]
    },
    {
      "cell_type": "code",
      "metadata": {
        "id": "ekJBZNRt39Ma",
        "colab_type": "code",
        "colab": {
          "base_uri": "https://localhost:8080/",
          "height": 71
        },
        "outputId": "993d21c2-d95a-4687-d818-b901ac064955"
      },
      "source": [
        "t.transpose()"
      ],
      "execution_count": null,
      "outputs": [
        {
          "output_type": "execute_result",
          "data": {
            "text/plain": [
              "array([[2, 3],\n",
              "       [3, 4],\n",
              "       [5, 5]])"
            ]
          },
          "metadata": {
            "tags": []
          },
          "execution_count": 68
        }
      ]
    },
    {
      "cell_type": "code",
      "metadata": {
        "id": "arwyBJ4T4V88",
        "colab_type": "code",
        "colab": {}
      },
      "source": [
        ""
      ],
      "execution_count": null,
      "outputs": []
    }
  ]
}